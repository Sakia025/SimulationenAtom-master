{
 "cells": [
  {
   "cell_type": "code",
   "execution_count": 1,
   "metadata": {},
   "outputs": [],
   "source": [
    "# -*- coding: utf-8 -*-\n",
    "import random\n",
    "import re\n",
    "import sys\n",
    "import math\n",
    "import numpy as np\n",
    "import uncertainties.unumpy as unp\n",
    "import matplotlib.pyplot as plt\n",
    "from scipy.optimize import curve_fit\n",
    "from iminuit import Minuit\n",
    "import yaml\n",
    "from resample.bootstrap import bootstrap"
   ]
  },
  {
   "cell_type": "code",
   "execution_count": 2,
   "metadata": {},
   "outputs": [],
   "source": [
    "run_n = 100#snakemake.params.run_n # Anzahl der Dateien\n",
    "ordner = 'CCB'\n",
    "Teilchenzahl = 10000000#snakemake.params.Teilchenzahl"
   ]
  },
  {
   "cell_type": "code",
   "execution_count": 3,
   "metadata": {},
   "outputs": [],
   "source": [
    "def get_lines(filename):\n",
    "    f = open(filename, 'r')\n",
    "    lines = f.readlines()\n",
    "    f.close\n",
    "    return lines\n",
    "\n",
    "myfunction = 'np.exp(a*z**2+ b*z + c)'\n",
    "parameter_names=['a', 'b', 'c']\n",
    "\n",
    "def epolynom(z,par):\n",
    "    return np.exp(par[0]*z**2+ par[1]*z + par[2])\n",
    "\n",
    "def unpepolynom(z,par):\n",
    "    return unp.exp(par[0]*z**2+ par[1]*z + par[2])\n",
    "\n",
    "def least_squares(par):\n",
    "    mu = epolynom(xdata, par)\n",
    "    yvar = yerr**2\n",
    "    return sum((ydata - mu) ** 2 / yvar)"
   ]
  },
  {
   "cell_type": "code",
   "execution_count": 4,
   "metadata": {},
   "outputs": [],
   "source": [
    "#### get all info from tdk files\n",
    "for run in range(0,run_n):\n",
    "        inputdatei = ordner + '-build/TDK_' + str(run) + '.txt'\n",
    "        lines_name = 'lines_' + str(run)\n",
    "        globals()[lines_name] = get_lines(inputdatei)\n",
    "\n",
    "### get an array with the size we need\n",
    "dose_array = np.zeros((run_n, len(lines_0)-3))\n",
    "\n",
    "### read the lines from tdk files, and fill in the dose array\n",
    "for run in range(0,run_n):\n",
    "    for i in range(3, len(lines_0)):\n",
    "        lines_name = 'lines_' + str(run)\n",
    "        line = globals()[lines_name][i].replace(',', ' ')\n",
    "        line = line.split()\n",
    "        dose_array[run, i-3] = line[3]"
   ]
  },
  {
   "cell_type": "code",
   "execution_count": 5,
   "metadata": {},
   "outputs": [],
   "source": [
    "dose_array = dose_array / Teilchenzahl\n",
    "volumes = np.shape(dose_array)[1]\n",
    "#actual_mean = np.zeros(volumes)\n",
    "#actual_error = np.zeros(volumes)\n",
    "bootstrap_mean = np.zeros(volumes)\n",
    "bootstrap_error = np.zeros(volumes)\n",
    "for volume in range(volumes):\n",
    "    dose_in_volume = dose_array[:,volume]\n",
    "    #actual_mean[volume] = np.mean(dose_in_volume)\n",
    "    #actual_error[volume] = np.std(dose_in_volume)/np.sqrt(len(dose_in_volume))\n",
    "    replicas = bootstrap(dose_in_volume)\n",
    "    bootstrap_mean[volume] = np.mean(replicas)\n",
    "    bootstrap_error[volume] = np.std(np.mean(replicas, axis=1))"
   ]
  },
  {
   "cell_type": "code",
   "execution_count": 6,
   "metadata": {},
   "outputs": [],
   "source": [
    "## calculate mean, standard error and relative error\n",
    "#dose_array_mean = np.mean(dose_array, axis=0)\n",
    "#dose_array_ste = np.std(dose_array, axis = 0)/np.sqrt(len(dose_array))\n",
    "\n",
    "dose_array_mean = bootstrap_mean\n",
    "dose_array_ste = bootstrap_error\n",
    "\n",
    "dose_array_rel = np.zeros(len(dose_array_mean))\n",
    "for i in range(len(dose_array_rel)):\n",
    "    if dose_array_mean[i] > 0:\n",
    "        dose_array_rel[i] = dose_array_ste[i]/dose_array_mean[i] * 100"
   ]
  },
  {
   "cell_type": "code",
   "execution_count": 7,
   "metadata": {},
   "outputs": [],
   "source": [
    "### get the z bins\n",
    "z=np.zeros(len(lines_0)-3)\n",
    "for i in range(3, len(lines_0)):\n",
    "    line_0 = lines_0[i].replace(',', ' ')\n",
    "    line_0 = line_0.split()\n",
    "    z[i-3] = line_0[2]\n",
    "#calculate the distance out of it\n",
    "z = z+0.5"
   ]
  },
  {
   "cell_type": "code",
   "execution_count": 8,
   "metadata": {},
   "outputs": [
    {
     "name": "stderr",
     "output_type": "stream",
     "text": [
      "/usr/local/lib/python3.7/site-packages/ipykernel_launcher.py:11: RuntimeWarning: overflow encountered in exp\n",
      "  # This is added back by InteractiveShellApp.init_path()\n",
      "/usr/local/lib/python3.7/site-packages/ipykernel_launcher.py:19: RuntimeWarning: overflow encountered in square\n",
      "/usr/local/lib/python3.7/site-packages/ipykernel_launcher.py:19: RuntimeWarning: overflow encountered in true_divide\n"
     ]
    }
   ],
   "source": [
    "ydata = dose_array_mean[dose_array_mean > 0]\n",
    "yerr = dose_array_ste[dose_array_mean > 0]\n",
    "xdata = z[dose_array_mean > 0]\n",
    "    \n",
    "try:\n",
    "    m = Minuit.from_array_func(least_squares,(-0.02, -0.2, -8.4), error=(-0.01, -0.1, -4.2), errordef=1)\n",
    "    m.migrad()\n",
    "    s_sq = m.fval / (len(ydata) - len(m.np_values()))\n",
    "    fit_success = True\n",
    "except:\n",
    "    fit_success = False\n",
    "    print('kein Fit')"
   ]
  },
  {
   "cell_type": "code",
   "execution_count": 9,
   "metadata": {},
   "outputs": [
    {
     "data": {
      "text/plain": [
       "<Figure size 432x288 with 0 Axes>"
      ]
     },
     "metadata": {},
     "output_type": "display_data"
    }
   ],
   "source": [
    "#get some plotting\n",
    "if fit_success == True:\n",
    "    z_plot = np.linspace(0,10,100)\n",
    "    D_plot = unpepolynom(z_plot, m.np_values())\n",
    "    plt.errorbar(z_plot, unp.nominal_values(D_plot), xerr=None, yerr=None, fmt='r-', label = 'fit')\n",
    "\n",
    "\n",
    "plt.errorbar(z[dose_array_mean > 0], dose_array_mean[dose_array_mean > 0], xerr= None, yerr=dose_array_ste[dose_array_mean > 0], fmt='k,', capsize =1, label=('TDK'))\n",
    "plt.xlabel(r'Abstand in z Richtung / $\\si{\\milli\\meter}$')\n",
    "plt.ylabel('Dosis pro Zerfall / $\\si{\\gray}$')\n",
    "plt.yscale('log')\n",
    "plt.legend()\n",
    "plt.savefig('Ergebnisse/TDK.pdf', bbox_inches=\"tight\")\n",
    "#plt.show()\n",
    "plt.clf()"
   ]
  },
  {
   "cell_type": "code",
   "execution_count": 10,
   "metadata": {},
   "outputs": [],
   "source": [
    "###  print the fit parameter to a file\n",
    "outputfile = 'Ergebnisse/TDK-Fitparameter.txt'\n",
    "if fit_success==True:\n",
    "    with open(outputfile, 'wt', encoding='utf-8') as out_file:\n",
    "        out_file.write(myfunction + '\\n')\n",
    "        for i in range(len(m.np_values())):\n",
    "            out_file.write( parameter_names[i] + '\\t' + str(m.np_values()[i]) +'\\t' + str(m.np_errors()[i]) + '\\n')\n",
    "        out_file.write('reduziertes Chi-Quadrat: ' + str(round(s_sq, 2)))\n",
    "elif fit_success==False:\n",
    "    with open(outputfile, 'wt', encoding='utf-8') as out_file:\n",
    "        out_file.write('kein Fit')\n",
    "\n",
    "\n",
    "outputfile = 'Ergebnisse/TDK-Werte.txt'\n",
    "with open(outputfile, 'wt', encoding='utf-8') as out_file:\n",
    "    out_file.write('z/mm \\t Dosis/Gy \\t Dosis error/Gy \\t Dosis_error/%\\n')\n",
    "    for i in range(len(dose_array_mean)):\n",
    "        out_file.write('{}\\t'.format(z[i]))\n",
    "        out_file.write('{:.2e}\\t'.format(dose_array_mean[i]))\n",
    "        out_file.write('{:.2e}\\t'.format(dose_array_ste[i]))\n",
    "        out_file.write('{:.2e}\\n'.format(dose_array_rel[i]))"
   ]
  },
  {
   "cell_type": "code",
   "execution_count": 15,
   "metadata": {},
   "outputs": [],
   "source": []
  },
  {
   "cell_type": "code",
   "execution_count": null,
   "metadata": {},
   "outputs": [],
   "source": []
  }
 ],
 "metadata": {
  "kernelspec": {
   "display_name": "Python 3",
   "language": "python",
   "name": "python3"
  },
  "language_info": {
   "codemirror_mode": {
    "name": "ipython",
    "version": 3
   },
   "file_extension": ".py",
   "mimetype": "text/x-python",
   "name": "python",
   "nbconvert_exporter": "python",
   "pygments_lexer": "ipython3",
   "version": "3.7.6"
  }
 },
 "nbformat": 4,
 "nbformat_minor": 2
}
